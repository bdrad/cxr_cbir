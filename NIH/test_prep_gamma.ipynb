{
 "cells": [
  {
   "cell_type": "markdown",
   "id": "b1901fc9",
   "metadata": {},
   "source": [
    "## Imports"
   ]
  },
  {
   "cell_type": "code",
   "execution_count": 1,
   "id": "b228c3bd",
   "metadata": {},
   "outputs": [],
   "source": [
    "from dataset import ChestXray14\n",
    "from model import get_encoder\n",
    "import tqdm\n",
    "import torch\n",
    "import numpy as np\n",
    "import pandas as pd\n",
    "from torch.utils.data import DataLoader\n",
    "import matplotlib.pyplot as plt\n",
    "import matplotlib.font_manager as fm\n",
    "from sklearn.metrics import precision_score, recall_score, f1_score\n",
    "from scipy.spatial.distance import cdist\n",
    "import random\n",
    "from einops import rearrange, repeat\n",
    "from matplotlib.offsetbox import OffsetImage, AnnotationBbox\n",
    "from mpl_toolkits.axes_grid1.inset_locator import InsetPosition, mark_inset\n",
    "from medcam import medcam"
   ]
  },
  {
   "cell_type": "code",
   "execution_count": 2,
   "id": "d8ad715b",
   "metadata": {},
   "outputs": [
    {
     "name": "stderr",
     "output_type": "stream",
     "text": [
      "Using cache found in /home/developer/.cache/torch/hub/facebookresearch_deit_main\n"
     ]
    },
    {
     "name": "stdout",
     "output_type": "stream",
     "text": [
      "Training on 3330 images (Cardiomegaly)\n"
     ]
    },
    {
     "name": "stderr",
     "output_type": "stream",
     "text": [
      "Training Loss: 0.7450946569442749: 100%|██████| 105/105 [00:12<00:00,  8.25it/s]\n"
     ]
    },
    {
     "name": "stdout",
     "output_type": "stream",
     "text": [
      "Epoch: 1 | Training Loss: 0.75\n"
     ]
    },
    {
     "name": "stderr",
     "output_type": "stream",
     "text": [
      "Validation Loss: 0.6956106424331665: 100%|██████| 52/52 [00:06<00:00,  8.12it/s]\n"
     ]
    },
    {
     "name": "stdout",
     "output_type": "stream",
     "text": [
      "Epoch: 1 | Validation Loss: 0.70\n"
     ]
    },
    {
     "name": "stderr",
     "output_type": "stream",
     "text": [
      "Training Loss: 0.6950162649154663: 100%|██████| 105/105 [00:12<00:00,  8.30it/s]\n"
     ]
    },
    {
     "name": "stdout",
     "output_type": "stream",
     "text": [
      "Epoch: 2 | Training Loss: 0.70\n"
     ]
    },
    {
     "name": "stderr",
     "output_type": "stream",
     "text": [
      "Validation Loss: 0.6863051056861877: 100%|██████| 52/52 [00:06<00:00,  8.11it/s]\n"
     ]
    },
    {
     "name": "stdout",
     "output_type": "stream",
     "text": [
      "Epoch: 2 | Validation Loss: 0.69\n"
     ]
    },
    {
     "name": "stderr",
     "output_type": "stream",
     "text": [
      "Training Loss: 0.687570333480835: 100%|███████| 105/105 [00:12<00:00,  8.23it/s]\n"
     ]
    },
    {
     "name": "stdout",
     "output_type": "stream",
     "text": [
      "Epoch: 3 | Training Loss: 0.69\n"
     ]
    },
    {
     "name": "stderr",
     "output_type": "stream",
     "text": [
      "Validation Loss: 0.756750226020813: 100%|███████| 52/52 [00:06<00:00,  8.32it/s]\n"
     ]
    },
    {
     "name": "stdout",
     "output_type": "stream",
     "text": [
      "Epoch: 3 | Validation Loss: 0.76\n"
     ]
    },
    {
     "name": "stderr",
     "output_type": "stream",
     "text": [
      "Training Loss: 0.5886635780334473: 100%|██████| 105/105 [00:12<00:00,  8.11it/s]\n"
     ]
    },
    {
     "name": "stdout",
     "output_type": "stream",
     "text": [
      "Epoch: 4 | Training Loss: 0.59\n"
     ]
    },
    {
     "name": "stderr",
     "output_type": "stream",
     "text": [
      "Validation Loss: 0.712650716304779: 100%|███████| 52/52 [00:06<00:00,  8.16it/s]\n"
     ]
    },
    {
     "name": "stdout",
     "output_type": "stream",
     "text": [
      "Epoch: 4 | Validation Loss: 0.71\n"
     ]
    },
    {
     "name": "stderr",
     "output_type": "stream",
     "text": [
      "Training Loss: 0.372358500957489: 100%|███████| 105/105 [00:12<00:00,  8.17it/s]\n"
     ]
    },
    {
     "name": "stdout",
     "output_type": "stream",
     "text": [
      "Epoch: 5 | Training Loss: 0.37\n"
     ]
    },
    {
     "name": "stderr",
     "output_type": "stream",
     "text": [
      "Validation Loss: 0.7397533655166626: 100%|██████| 52/52 [00:06<00:00,  8.14it/s]\n"
     ]
    },
    {
     "name": "stdout",
     "output_type": "stream",
     "text": [
      "Epoch: 5 | Validation Loss: 0.74\n"
     ]
    },
    {
     "name": "stderr",
     "output_type": "stream",
     "text": [
      "Training Loss: 0.652428388595581: 100%|███████| 105/105 [00:13<00:00,  8.07it/s]\n"
     ]
    },
    {
     "name": "stdout",
     "output_type": "stream",
     "text": [
      "Epoch: 6 | Training Loss: 0.65\n"
     ]
    },
    {
     "name": "stderr",
     "output_type": "stream",
     "text": [
      "Validation Loss: 0.6897252202033997: 100%|██████| 52/52 [00:06<00:00,  8.13it/s]\n"
     ]
    },
    {
     "name": "stdout",
     "output_type": "stream",
     "text": [
      "Epoch: 6 | Validation Loss: 0.69\n"
     ]
    },
    {
     "name": "stderr",
     "output_type": "stream",
     "text": [
      "Training Loss: 1.0305975675582886: 100%|██████| 105/105 [00:13<00:00,  8.04it/s]\n"
     ]
    },
    {
     "name": "stdout",
     "output_type": "stream",
     "text": [
      "Epoch: 7 | Training Loss: 1.03\n"
     ]
    },
    {
     "name": "stderr",
     "output_type": "stream",
     "text": [
      "Validation Loss: 0.5927154421806335: 100%|██████| 52/52 [00:06<00:00,  8.04it/s]\n"
     ]
    },
    {
     "name": "stdout",
     "output_type": "stream",
     "text": [
      "Epoch: 7 | Validation Loss: 0.59\n"
     ]
    },
    {
     "name": "stderr",
     "output_type": "stream",
     "text": [
      "Training Loss: 0.6921135187149048: 100%|██████| 105/105 [00:12<00:00,  8.14it/s]\n"
     ]
    },
    {
     "name": "stdout",
     "output_type": "stream",
     "text": [
      "Epoch: 8 | Training Loss: 0.69\n"
     ]
    },
    {
     "name": "stderr",
     "output_type": "stream",
     "text": [
      "Validation Loss: 0.970900297164917: 100%|███████| 52/52 [00:06<00:00,  8.23it/s]\n"
     ]
    },
    {
     "name": "stdout",
     "output_type": "stream",
     "text": [
      "Epoch: 8 | Validation Loss: 0.97\n"
     ]
    },
    {
     "name": "stderr",
     "output_type": "stream",
     "text": [
      "Training Loss: 0.950689435005188: 100%|███████| 105/105 [00:12<00:00,  8.08it/s]\n"
     ]
    },
    {
     "name": "stdout",
     "output_type": "stream",
     "text": [
      "Epoch: 9 | Training Loss: 0.95\n"
     ]
    },
    {
     "name": "stderr",
     "output_type": "stream",
     "text": [
      "Validation Loss: 0.6056507229804993: 100%|██████| 52/52 [00:06<00:00,  7.95it/s]\n"
     ]
    },
    {
     "name": "stdout",
     "output_type": "stream",
     "text": [
      "Epoch: 9 | Validation Loss: 0.61\n"
     ]
    },
    {
     "name": "stderr",
     "output_type": "stream",
     "text": [
      "Training Loss: 0.9329084753990173: 100%|██████| 105/105 [00:13<00:00,  7.95it/s]\n"
     ]
    },
    {
     "name": "stdout",
     "output_type": "stream",
     "text": [
      "Epoch: 10 | Training Loss: 0.93\n"
     ]
    },
    {
     "name": "stderr",
     "output_type": "stream",
     "text": [
      "Validation Loss: 0.6792701482772827: 100%|██████| 52/52 [00:06<00:00,  7.77it/s]\n"
     ]
    },
    {
     "name": "stdout",
     "output_type": "stream",
     "text": [
      "Epoch: 10 | Validation Loss: 0.68\n"
     ]
    },
    {
     "name": "stderr",
     "output_type": "stream",
     "text": [
      "Training Loss: 0.5428995490074158: 100%|██████| 105/105 [00:13<00:00,  7.95it/s]\n"
     ]
    },
    {
     "name": "stdout",
     "output_type": "stream",
     "text": [
      "Epoch: 11 | Training Loss: 0.54\n"
     ]
    },
    {
     "name": "stderr",
     "output_type": "stream",
     "text": [
      "Validation Loss: 0.7384198904037476: 100%|██████| 52/52 [00:06<00:00,  7.96it/s]\n"
     ]
    },
    {
     "name": "stdout",
     "output_type": "stream",
     "text": [
      "Epoch: 11 | Validation Loss: 0.74\n"
     ]
    },
    {
     "name": "stderr",
     "output_type": "stream",
     "text": [
      "Training Loss: 0.5987266898155212: 100%|██████| 105/105 [00:13<00:00,  7.99it/s]\n"
     ]
    },
    {
     "name": "stdout",
     "output_type": "stream",
     "text": [
      "Epoch: 12 | Training Loss: 0.60\n"
     ]
    },
    {
     "name": "stderr",
     "output_type": "stream",
     "text": [
      "Validation Loss: 0.6274457573890686: 100%|██████| 52/52 [00:06<00:00,  8.01it/s]\n"
     ]
    },
    {
     "name": "stdout",
     "output_type": "stream",
     "text": [
      "Epoch: 12 | Validation Loss: 0.63\n"
     ]
    },
    {
     "name": "stderr",
     "output_type": "stream",
     "text": [
      "Training Loss: 0.8542601466178894: 100%|██████| 105/105 [00:13<00:00,  7.96it/s]\n"
     ]
    },
    {
     "name": "stdout",
     "output_type": "stream",
     "text": [
      "Epoch: 13 | Training Loss: 0.85\n"
     ]
    },
    {
     "name": "stderr",
     "output_type": "stream",
     "text": [
      "Validation Loss: 0.6470153331756592: 100%|██████| 52/52 [00:06<00:00,  8.07it/s]\n"
     ]
    },
    {
     "name": "stdout",
     "output_type": "stream",
     "text": [
      "Epoch: 13 | Validation Loss: 0.65\n"
     ]
    },
    {
     "name": "stderr",
     "output_type": "stream",
     "text": [
      "Training Loss: 0.6603373289108276: 100%|██████| 105/105 [00:13<00:00,  7.99it/s]\n"
     ]
    },
    {
     "name": "stdout",
     "output_type": "stream",
     "text": [
      "Epoch: 14 | Training Loss: 0.66\n"
     ]
    },
    {
     "name": "stderr",
     "output_type": "stream",
     "text": [
      "Validation Loss: 0.7309111952781677: 100%|██████| 52/52 [00:06<00:00,  8.04it/s]\n"
     ]
    },
    {
     "name": "stdout",
     "output_type": "stream",
     "text": [
      "Epoch: 14 | Validation Loss: 0.73\n"
     ]
    },
    {
     "name": "stderr",
     "output_type": "stream",
     "text": [
      "Training Loss: 0.7155483961105347: 100%|██████| 105/105 [00:13<00:00,  7.92it/s]\n"
     ]
    },
    {
     "name": "stdout",
     "output_type": "stream",
     "text": [
      "Epoch: 15 | Training Loss: 0.72\n"
     ]
    },
    {
     "name": "stderr",
     "output_type": "stream",
     "text": [
      "Validation Loss: 0.7571747899055481: 100%|██████| 52/52 [00:06<00:00,  7.99it/s]\n"
     ]
    },
    {
     "name": "stdout",
     "output_type": "stream",
     "text": [
      "Epoch: 15 | Validation Loss: 0.76\n"
     ]
    },
    {
     "name": "stderr",
     "output_type": "stream",
     "text": [
      "Training Loss: 0.6754711270332336: 100%|██████| 105/105 [00:13<00:00,  8.05it/s]\n"
     ]
    },
    {
     "name": "stdout",
     "output_type": "stream",
     "text": [
      "Epoch: 16 | Training Loss: 0.68\n"
     ]
    },
    {
     "name": "stderr",
     "output_type": "stream",
     "text": [
      "Validation Loss: 0.5922858715057373: 100%|██████| 52/52 [00:06<00:00,  8.03it/s]\n"
     ]
    },
    {
     "name": "stdout",
     "output_type": "stream",
     "text": [
      "Epoch: 16 | Validation Loss: 0.59\n"
     ]
    },
    {
     "name": "stderr",
     "output_type": "stream",
     "text": [
      "Training Loss: 0.6723374128341675: 100%|██████| 105/105 [00:13<00:00,  7.95it/s]\n"
     ]
    },
    {
     "name": "stdout",
     "output_type": "stream",
     "text": [
      "Epoch: 17 | Training Loss: 0.67\n"
     ]
    },
    {
     "name": "stderr",
     "output_type": "stream",
     "text": [
      "Validation Loss: 0.5034829378128052: 100%|██████| 52/52 [00:06<00:00,  8.08it/s]\n"
     ]
    },
    {
     "name": "stdout",
     "output_type": "stream",
     "text": [
      "Epoch: 17 | Validation Loss: 0.50\n"
     ]
    },
    {
     "name": "stderr",
     "output_type": "stream",
     "text": [
      "Training Loss: 0.6091444492340088: 100%|██████| 105/105 [00:12<00:00,  8.18it/s]\n"
     ]
    },
    {
     "name": "stdout",
     "output_type": "stream",
     "text": [
      "Epoch: 18 | Training Loss: 0.61\n"
     ]
    },
    {
     "name": "stderr",
     "output_type": "stream",
     "text": [
      "Validation Loss: 0.694614589214325: 100%|███████| 52/52 [00:06<00:00,  8.08it/s]\n"
     ]
    },
    {
     "name": "stdout",
     "output_type": "stream",
     "text": [
      "Epoch: 18 | Validation Loss: 0.69\n"
     ]
    },
    {
     "name": "stderr",
     "output_type": "stream",
     "text": [
      "Training Loss: 0.3154405355453491: 100%|██████| 105/105 [00:12<00:00,  8.27it/s]\n"
     ]
    },
    {
     "name": "stdout",
     "output_type": "stream",
     "text": [
      "Epoch: 19 | Training Loss: 0.32\n"
     ]
    },
    {
     "name": "stderr",
     "output_type": "stream",
     "text": [
      "Validation Loss: 0.838115394115448: 100%|███████| 52/52 [00:06<00:00,  8.20it/s]\n"
     ]
    },
    {
     "name": "stdout",
     "output_type": "stream",
     "text": [
      "Epoch: 19 | Validation Loss: 0.84\n"
     ]
    },
    {
     "name": "stderr",
     "output_type": "stream",
     "text": [
      "Training Loss: 0.9701114892959595: 100%|██████| 105/105 [00:12<00:00,  8.27it/s]\n"
     ]
    },
    {
     "name": "stdout",
     "output_type": "stream",
     "text": [
      "Epoch: 20 | Training Loss: 0.97\n"
     ]
    },
    {
     "name": "stderr",
     "output_type": "stream",
     "text": [
      "Validation Loss: 0.6280388832092285: 100%|██████| 52/52 [00:06<00:00,  8.11it/s]\n"
     ]
    },
    {
     "name": "stdout",
     "output_type": "stream",
     "text": [
      "Epoch: 20 | Validation Loss: 0.63\n"
     ]
    },
    {
     "data": {
      "image/png": "[encoded data removed]",
      "text/plain": [
       "<Figure size 432x288 with 1 Axes>"
      ]
     },
     "metadata": {
      "needs_background": "light"
     },
     "output_type": "display_data"
    }
   ],
   "source": [
    "from main import main\n",
    "main(\"gamma_correct\")"
   ]
  },
  {
   "cell_type": "markdown",
   "id": "93f6cb55",
   "metadata": {},
   "source": [
    "# "
   ]
  },
  {
   "cell_type": "markdown",
   "id": "b50be741",
   "metadata": {},
   "source": [
    "## CUDA"
   ]
  },
  {
   "cell_type": "code",
   "execution_count": 3,
   "id": "d005c9d4",
   "metadata": {},
   "outputs": [
    {
     "data": {
      "text/plain": [
       "'cuda'"
      ]
     },
     "execution_count": 3,
     "metadata": {},
     "output_type": "execute_result"
    }
   ],
   "source": [
    "device = \"cuda\" if torch.cuda.is_available() else \"cpu\"\n",
    "device"
   ]
  },
  {
   "cell_type": "markdown",
   "id": "6bb06d1d",
   "metadata": {},
   "source": [
    "## Image Retrieval Tasks"
   ]
  },
  {
   "cell_type": "code",
   "execution_count": 4,
   "id": "7e2b3443",
   "metadata": {},
   "outputs": [],
   "source": [
    "retrieval_tasks = [\n",
    "    'Cardiomegaly',\n",
    "    'Opacity',\n",
    "    'Emphysema',\n",
    "]"
   ]
  },
  {
   "cell_type": "markdown",
   "id": "060e0cc1",
   "metadata": {},
   "source": [
    "## Embeddings"
   ]
  },
  {
   "cell_type": "code",
   "execution_count": 5,
   "id": "d069efa6",
   "metadata": {},
   "outputs": [
    {
     "name": "stderr",
     "output_type": "stream",
     "text": [
      "Using cache found in /home/developer/.cache/torch/hub/facebookresearch_deit_main\n",
      "Cardiomegaly: 100%|███████████████████████████| 556/556 [00:12<00:00, 44.26it/s]\n",
      "Using cache found in /home/developer/.cache/torch/hub/facebookresearch_deit_main\n"
     ]
    },
    {
     "ename": "FileNotFoundError",
     "evalue": "[Errno 2] No such file or directory: 'weights/vit_Opacity_orig_weights'",
     "output_type": "error",
     "traceback": [
      "\u001b[0;31m---------------------------------------------------------------------------\u001b[0m",
      "\u001b[0;31mFileNotFoundError\u001b[0m                         Traceback (most recent call last)",
      "\u001b[0;32m/tmp/ipykernel_2595812/4294322142.py\u001b[0m in \u001b[0;36m<module>\u001b[0;34m\u001b[0m\n\u001b[1;32m     35\u001b[0m     \u001b[0mencoder_choice\u001b[0m \u001b[0;34m=\u001b[0m \u001b[0;34m'vit'\u001b[0m\u001b[0;34m\u001b[0m\u001b[0;34m\u001b[0m\u001b[0m\n\u001b[1;32m     36\u001b[0m     \u001b[0mclass_name\u001b[0m \u001b[0;34m=\u001b[0m \u001b[0mtask\u001b[0m\u001b[0;34m\u001b[0m\u001b[0;34m\u001b[0m\u001b[0m\n\u001b[0;32m---> 37\u001b[0;31m     \u001b[0mimages\u001b[0m\u001b[0;34m[\u001b[0m\u001b[0mtask\u001b[0m\u001b[0;34m]\u001b[0m\u001b[0;34m,\u001b[0m \u001b[0membeddings\u001b[0m\u001b[0;34m[\u001b[0m\u001b[0mtask\u001b[0m\u001b[0;34m]\u001b[0m\u001b[0;34m,\u001b[0m \u001b[0mlabels\u001b[0m\u001b[0;34m[\u001b[0m\u001b[0mtask\u001b[0m\u001b[0;34m]\u001b[0m \u001b[0;34m=\u001b[0m \u001b[0mdata\u001b[0m\u001b[0;34m(\u001b[0m\u001b[0mencoder_choice\u001b[0m\u001b[0;34m,\u001b[0m \u001b[0mclass_name\u001b[0m\u001b[0;34m)\u001b[0m\u001b[0;34m\u001b[0m\u001b[0;34m\u001b[0m\u001b[0m\n\u001b[0m",
      "\u001b[0;32m/tmp/ipykernel_2595812/4294322142.py\u001b[0m in \u001b[0;36mdata\u001b[0;34m(encoder_choice, class_name)\u001b[0m\n\u001b[1;32m      3\u001b[0m     \u001b[0mmodel\u001b[0m \u001b[0;34m=\u001b[0m \u001b[0mget_encoder\u001b[0m\u001b[0;34m(\u001b[0m\u001b[0mencoder_choice\u001b[0m\u001b[0;34m=\u001b[0m\u001b[0mencoder_choice\u001b[0m\u001b[0;34m)\u001b[0m\u001b[0;34m\u001b[0m\u001b[0;34m\u001b[0m\u001b[0m\n\u001b[1;32m      4\u001b[0m     \u001b[0mmodel\u001b[0m \u001b[0;34m=\u001b[0m \u001b[0mmodel\u001b[0m\u001b[0;34m.\u001b[0m\u001b[0mto\u001b[0m\u001b[0;34m(\u001b[0m\u001b[0mdevice\u001b[0m\u001b[0;34m)\u001b[0m\u001b[0;34m\u001b[0m\u001b[0;34m\u001b[0m\u001b[0m\n\u001b[0;32m----> 5\u001b[0;31m     \u001b[0mmodel\u001b[0m\u001b[0;34m.\u001b[0m\u001b[0mload_state_dict\u001b[0m\u001b[0;34m(\u001b[0m\u001b[0mtorch\u001b[0m\u001b[0;34m.\u001b[0m\u001b[0mload\u001b[0m\u001b[0;34m(\u001b[0m\u001b[0mmodel_weights_path\u001b[0m\u001b[0;34m)\u001b[0m\u001b[0;34m)\u001b[0m\u001b[0;34m\u001b[0m\u001b[0;34m\u001b[0m\u001b[0m\n\u001b[0m\u001b[1;32m      6\u001b[0m     \u001b[0mmodel\u001b[0m\u001b[0;34m.\u001b[0m\u001b[0meval\u001b[0m\u001b[0;34m(\u001b[0m\u001b[0;34m)\u001b[0m\u001b[0;34m\u001b[0m\u001b[0;34m\u001b[0m\u001b[0m\n\u001b[1;32m      7\u001b[0m     \u001b[0mimages\u001b[0m \u001b[0;34m=\u001b[0m \u001b[0;34m[\u001b[0m\u001b[0;34m]\u001b[0m\u001b[0;34m\u001b[0m\u001b[0;34m\u001b[0m\u001b[0m\n",
      "\u001b[0;32m~/anaconda3/envs/cbir/lib/python3.9/site-packages/torch/serialization.py\u001b[0m in \u001b[0;36mload\u001b[0;34m(f, map_location, pickle_module, **pickle_load_args)\u001b[0m\n\u001b[1;32m    697\u001b[0m         \u001b[0mpickle_load_args\u001b[0m\u001b[0;34m[\u001b[0m\u001b[0;34m'encoding'\u001b[0m\u001b[0;34m]\u001b[0m \u001b[0;34m=\u001b[0m \u001b[0;34m'utf-8'\u001b[0m\u001b[0;34m\u001b[0m\u001b[0;34m\u001b[0m\u001b[0m\n\u001b[1;32m    698\u001b[0m \u001b[0;34m\u001b[0m\u001b[0m\n\u001b[0;32m--> 699\u001b[0;31m     \u001b[0;32mwith\u001b[0m \u001b[0m_open_file_like\u001b[0m\u001b[0;34m(\u001b[0m\u001b[0mf\u001b[0m\u001b[0;34m,\u001b[0m \u001b[0;34m'rb'\u001b[0m\u001b[0;34m)\u001b[0m \u001b[0;32mas\u001b[0m \u001b[0mopened_file\u001b[0m\u001b[0;34m:\u001b[0m\u001b[0;34m\u001b[0m\u001b[0;34m\u001b[0m\u001b[0m\n\u001b[0m\u001b[1;32m    700\u001b[0m         \u001b[0;32mif\u001b[0m \u001b[0m_is_zipfile\u001b[0m\u001b[0;34m(\u001b[0m\u001b[0mopened_file\u001b[0m\u001b[0;34m)\u001b[0m\u001b[0;34m:\u001b[0m\u001b[0;34m\u001b[0m\u001b[0;34m\u001b[0m\u001b[0m\n\u001b[1;32m    701\u001b[0m             \u001b[0;31m# The zipfile reader is going to advance the current file position.\u001b[0m\u001b[0;34m\u001b[0m\u001b[0;34m\u001b[0m\u001b[0m\n",
      "\u001b[0;32m~/anaconda3/envs/cbir/lib/python3.9/site-packages/torch/serialization.py\u001b[0m in \u001b[0;36m_open_file_like\u001b[0;34m(name_or_buffer, mode)\u001b[0m\n\u001b[1;32m    229\u001b[0m \u001b[0;32mdef\u001b[0m \u001b[0m_open_file_like\u001b[0m\u001b[0;34m(\u001b[0m\u001b[0mname_or_buffer\u001b[0m\u001b[0;34m,\u001b[0m \u001b[0mmode\u001b[0m\u001b[0;34m)\u001b[0m\u001b[0;34m:\u001b[0m\u001b[0;34m\u001b[0m\u001b[0;34m\u001b[0m\u001b[0m\n\u001b[1;32m    230\u001b[0m     \u001b[0;32mif\u001b[0m \u001b[0m_is_path\u001b[0m\u001b[0;34m(\u001b[0m\u001b[0mname_or_buffer\u001b[0m\u001b[0;34m)\u001b[0m\u001b[0;34m:\u001b[0m\u001b[0;34m\u001b[0m\u001b[0;34m\u001b[0m\u001b[0m\n\u001b[0;32m--> 231\u001b[0;31m         \u001b[0;32mreturn\u001b[0m \u001b[0m_open_file\u001b[0m\u001b[0;34m(\u001b[0m\u001b[0mname_or_buffer\u001b[0m\u001b[0;34m,\u001b[0m \u001b[0mmode\u001b[0m\u001b[0;34m)\u001b[0m\u001b[0;34m\u001b[0m\u001b[0;34m\u001b[0m\u001b[0m\n\u001b[0m\u001b[1;32m    232\u001b[0m     \u001b[0;32melse\u001b[0m\u001b[0;34m:\u001b[0m\u001b[0;34m\u001b[0m\u001b[0;34m\u001b[0m\u001b[0m\n\u001b[1;32m    233\u001b[0m         \u001b[0;32mif\u001b[0m \u001b[0;34m'w'\u001b[0m \u001b[0;32min\u001b[0m \u001b[0mmode\u001b[0m\u001b[0;34m:\u001b[0m\u001b[0;34m\u001b[0m\u001b[0;34m\u001b[0m\u001b[0m\n",
      "\u001b[0;32m~/anaconda3/envs/cbir/lib/python3.9/site-packages/torch/serialization.py\u001b[0m in \u001b[0;36m__init__\u001b[0;34m(self, name, mode)\u001b[0m\n\u001b[1;32m    210\u001b[0m \u001b[0;32mclass\u001b[0m \u001b[0m_open_file\u001b[0m\u001b[0;34m(\u001b[0m\u001b[0m_opener\u001b[0m\u001b[0;34m)\u001b[0m\u001b[0;34m:\u001b[0m\u001b[0;34m\u001b[0m\u001b[0;34m\u001b[0m\u001b[0m\n\u001b[1;32m    211\u001b[0m     \u001b[0;32mdef\u001b[0m \u001b[0m__init__\u001b[0m\u001b[0;34m(\u001b[0m\u001b[0mself\u001b[0m\u001b[0;34m,\u001b[0m \u001b[0mname\u001b[0m\u001b[0;34m,\u001b[0m \u001b[0mmode\u001b[0m\u001b[0;34m)\u001b[0m\u001b[0;34m:\u001b[0m\u001b[0;34m\u001b[0m\u001b[0;34m\u001b[0m\u001b[0m\n\u001b[0;32m--> 212\u001b[0;31m         \u001b[0msuper\u001b[0m\u001b[0;34m(\u001b[0m\u001b[0m_open_file\u001b[0m\u001b[0;34m,\u001b[0m \u001b[0mself\u001b[0m\u001b[0;34m)\u001b[0m\u001b[0;34m.\u001b[0m\u001b[0m__init__\u001b[0m\u001b[0;34m(\u001b[0m\u001b[0mopen\u001b[0m\u001b[0;34m(\u001b[0m\u001b[0mname\u001b[0m\u001b[0;34m,\u001b[0m \u001b[0mmode\u001b[0m\u001b[0;34m)\u001b[0m\u001b[0;34m)\u001b[0m\u001b[0;34m\u001b[0m\u001b[0;34m\u001b[0m\u001b[0m\n\u001b[0m\u001b[1;32m    213\u001b[0m \u001b[0;34m\u001b[0m\u001b[0m\n\u001b[1;32m    214\u001b[0m     \u001b[0;32mdef\u001b[0m \u001b[0m__exit__\u001b[0m\u001b[0;34m(\u001b[0m\u001b[0mself\u001b[0m\u001b[0;34m,\u001b[0m \u001b[0;34m*\u001b[0m\u001b[0margs\u001b[0m\u001b[0;34m)\u001b[0m\u001b[0;34m:\u001b[0m\u001b[0;34m\u001b[0m\u001b[0;34m\u001b[0m\u001b[0m\n",
      "\u001b[0;31mFileNotFoundError\u001b[0m: [Errno 2] No such file or directory: 'weights/vit_Opacity_orig_weights'"
     ]
    }
   ],
   "source": [
    "def data(encoder_choice, class_name):\n",
    "    model_weights_path = 'weights/{}_{}_{}_weights'.format(encoder_choice, class_name, \"orig\")\n",
    "    model = get_encoder(encoder_choice=encoder_choice)\n",
    "    model = model.to(device)\n",
    "    model.load_state_dict(torch.load(model_weights_path))\n",
    "    model.eval()\n",
    "    images = []\n",
    "    embeddings = []\n",
    "    labels = []\n",
    "    test_dataset = ChestXray14(phase='test', class_name=class_name)\n",
    "    test_data_loader = DataLoader(test_dataset, shuffle=False)\n",
    "    progress_bar = tqdm.tqdm(test_data_loader)\n",
    "    progress_bar.set_description(class_name)\n",
    "    for data in progress_bar:\n",
    "        image, label = data\n",
    "        image, label = image.to(device), label.to(device)        \n",
    "        embedding = model(image)\n",
    "        image = image.cpu().detach().numpy()[0]\n",
    "        embedding = embedding.cpu().detach().numpy()[0]\n",
    "        label = label.cpu().detach().numpy()[0]\n",
    "        images.append(image)\n",
    "        embeddings.append(embedding)\n",
    "        labels.append(label)\n",
    "\n",
    "    images = np.array(images)\n",
    "    embeddings = np.array(embeddings)\n",
    "    labels = np.array(labels)\n",
    "    return images, embeddings, labels\n",
    "\n",
    "images = {}\n",
    "embeddings = {}\n",
    "labels = {}\n",
    "\n",
    "for task in retrieval_tasks:\n",
    "    encoder_choice = 'vit'\n",
    "    class_name = task\n",
    "    images[task], embeddings[task], labels[task] = data(encoder_choice, class_name)"
   ]
  },
  {
   "cell_type": "markdown",
   "id": "5e16e79f",
   "metadata": {},
   "source": [
    "## Qualitative Analysis"
   ]
  },
  {
   "cell_type": "code",
   "execution_count": null,
   "id": "b99fec85",
   "metadata": {
    "scrolled": true
   },
   "outputs": [],
   "source": [
    "fig, ax = plt.subplots(3, 5, figsize=(20, 14))\n",
    "\n",
    "path = 'fonts/Roboto-Bold.ttf'\n",
    "fontprop = fm.FontProperties(fname=path, size=40)\n",
    "title1 = ax[0][0].set_title('Query', fontproperties=fontprop, pad=25)\n",
    "\n",
    "plt.subplots_adjust(hspace=0.4)\n",
    "\n",
    "retrieval_indices = [481, 2722, 133]\n",
    "\n",
    "for task_index, task in enumerate(retrieval_tasks):\n",
    "    i = retrieval_indices[task_index]\n",
    "    nearest_neighbor_indices = cdist(embeddings[task], embeddings[task])[i].argsort()\n",
    "    nearest_neighbor_indices = nearest_neighbor_indices[nearest_neighbor_indices != i]\n",
    "    indices = [i]\n",
    "    indices.extend(nearest_neighbor_indices[:4])\n",
    "\n",
    "    for image_index, sub_ax in enumerate(ax[task_index]):\n",
    "        sub_ax.get_xaxis().set_ticks([])\n",
    "        sub_ax.get_yaxis().set_ticks([])\n",
    "        for spine in sub_ax.spines:\n",
    "            sub_ax.spines[spine].set_visible(False)\n",
    "        path = 'fonts/Roboto-Regular.ttf'\n",
    "        fontprop = fm.FontProperties(fname=path, size=25)\n",
    "        image = rearrange(images[task][indices[image_index]], 'c w h -> w h c')\n",
    "        sub_ax.imshow(image, cmap='Greys_r')\n",
    "        label = labels[task][indices[image_index]]\n",
    "        if label:\n",
    "            label = task\n",
    "        else:\n",
    "            label = 'No Finding'\n",
    "        sub_ax.text(0.5, -0.1, label, ha='center', va='top',\n",
    "               transform=sub_ax.transAxes, fontproperties=fontprop)\n",
    "\n",
    "plt.savefig('figures/query.png', bbox_inches='tight')"
   ]
  },
  {
   "cell_type": "markdown",
   "id": "1c98ef22",
   "metadata": {},
   "source": [
    "## **Metrics**"
   ]
  },
  {
   "cell_type": "code",
   "execution_count": null,
   "id": "0087a6b0",
   "metadata": {},
   "outputs": [],
   "source": [
    "embeddings = embeddings['Cardiomegaly']\n",
    "labels = labels['Cardiomegaly']\n",
    "images = images['Cardiomegaly']"
   ]
  },
  {
   "cell_type": "code",
   "execution_count": null,
   "id": "7e6af350",
   "metadata": {},
   "outputs": [],
   "source": [
    "def precision_at(k, i):\n",
    "    nearest_neighbor_indices = cdist(embeddings, embeddings)[i].argsort()\n",
    "    nearest_neighbor_indices = nearest_neighbor_indices[nearest_neighbor_indices != i]\n",
    "    indices = []\n",
    "    indices.extend(nearest_neighbor_indices[:k])\n",
    "    return sum(labels[indices] == labels[i]) / k\n",
    "\n",
    "p_at_5 = 0\n",
    "\n",
    "for i in range(len(embeddings)):\n",
    "    p_at_5 += precision_at(k=5, i=i)\n",
    "    \n",
    "print('ViT: ', p_at_5 / len(embeddings))"
   ]
  },
  {
   "cell_type": "code",
   "execution_count": null,
   "id": "86563cb2",
   "metadata": {},
   "outputs": [],
   "source": [
    "from sklearn.manifold import TSNE\n",
    "\n",
    "z = TSNE().fit_transform(embeddings)\n",
    "\n",
    "x, y = z[:, 0], z[:, 1]\n",
    "x = (x - np.min(x)) / (np.max(x) - np.min(x))\n",
    "y = (y - np.min(y)) / (np.max(y) - np.min(y))\n",
    "\n",
    "positive_color = '#ED6B86'\n",
    "negative_color = '#5FBFF9'\n",
    "\n",
    "colors = [positive_color if labels[i] else negative_color for i in range(len(embeddings))]\n",
    "\n",
    "fig, ax = plt.subplots(figsize=(20, 20))\n",
    "ax.scatter(x, y, color=colors, s=100)\n",
    "\n",
    "for i in [180, 179, 177, 176, 347, 342, 340, 339]:  \n",
    "    img = rearrange(images[i], 'c w h -> w h c')\n",
    "    imgbox = OffsetImage(img, zoom=0.5, cmap='Greys_r')\n",
    "    ab = AnnotationBbox(imgbox, (x[i], y[i]),\n",
    "                    xycoords='data', boxcoords='offset points', bboxprops=dict(linewidth=0))\n",
    "    ax.add_artist(ab)    \n",
    "\n",
    "ax.get_xaxis().set_visible(False)\n",
    "ax.get_yaxis().set_visible(False)\n",
    "for spine in ax.spines:\n",
    "    ax.spines[spine].set_visible(False)\n",
    "\n",
    "\n",
    "plt.scatter(x, y, color=colors)\n",
    "\n",
    "from matplotlib.patches import Patch\n",
    "from matplotlib.lines import Line2D\n",
    "\n",
    "\n",
    "path = 'fonts/Roboto-Regular.ttf'\n",
    "fontprop = fm.FontProperties(fname=path, size=25)\n",
    "\n",
    "legend_elements = [\n",
    "    Line2D([0], [0], marker='o', color='w', label='Cardiomegaly', markerfacecolor=positive_color, markersize=20),\n",
    "    Line2D([0], [0], marker='o', color='w', label='No Findings',markerfacecolor=negative_color, markersize=20)\n",
    "]\n",
    "\n",
    "lgnd = ax.legend(handles=legend_elements, bbox_to_anchor=(0.25, 0.95), frameon=False, prop=fontprop)\n",
    "plt.savefig('figures/tsne.png', bbox_inches='tight')"
   ]
  },
  {
   "cell_type": "code",
   "execution_count": null,
   "id": "60d1cd29",
   "metadata": {},
   "outputs": [],
   "source": [
    "# df = pd.DataFrame((list(zip(x,y))), columns=['x', 'y'])\n",
    "# x2, x1, y1, y2 = 0.45, 0.55, 0.5, 0.6\n",
    "# df = df[(df['x'] > x2) & (df['x'] < x1) & (df['y'] < y1) & (df['y'] > y2)]\n",
    "\n",
    "\n",
    "# inset_ax = fig.add_axes([0, 0, 1, 1], zorder=4, frameon=True)\n",
    "# inset_ax.set_axes_locator(InsetPosition(ax, [1.2, 0.6, 0.55, 0.55]))\n",
    "\n",
    "# inset_ax.get_xaxis().set_visible(False)\n",
    "# inset_ax.get_yaxis().set_visible(False)\n",
    "# for spine in ax.spines:\n",
    "#     inset_ax.spines[spine].set_color('#FF70A6')\n",
    "#     inset_ax.spines[spine].set_linewidth(5)\n",
    "\n",
    "# for i in range(len(embeddings)):    \n",
    "#     img = rearrange(images[i], 'c w h -> w h c')\n",
    "#     imgbox = OffsetImage(img, zoom=0.35, cmap='Greys_r')\n",
    "#     ab = AnnotationBbox(imgbox, (x[i], y[i]),\n",
    "#                     xycoords='data', boxcoords='offset points', bboxprops=dict(linewidth=0))\n",
    "#     inset_ax.add_artist(ab)\n",
    "\n",
    "# inset_ax.set_xlim(x1, x2)\n",
    "# inset_ax.set_ylim(y1, y2)\n",
    "\n",
    "# inset = mark_inset(ax, inset_ax, loc1=3, loc2=2, fc='none', ec='#FF70A6', lw=4)\n",
    "# inset[0].set_zorder(1000)"
   ]
  },
  {
   "cell_type": "code",
   "execution_count": null,
   "id": "cc29e3da",
   "metadata": {},
   "outputs": [],
   "source": [
    "model.blocks[-2]"
   ]
  },
  {
   "cell_type": "markdown",
   "id": "fabfbc37",
   "metadata": {},
   "source": [
    "## Saliency Maps"
   ]
  },
  {
   "cell_type": "code",
   "execution_count": null,
   "id": "75cd5a68",
   "metadata": {
    "scrolled": false
   },
   "outputs": [],
   "source": [
    "from pytorch_grad_cam import GradCAM, \\\n",
    "    ScoreCAM, \\\n",
    "    GradCAMPlusPlus, \\\n",
    "    AblationCAM, \\\n",
    "    XGradCAM, \\\n",
    "    EigenCAM, \\\n",
    "    EigenGradCAM, \\\n",
    "    LayerCAM, \\\n",
    "    FullGrad\n",
    "from pytorch_grad_cam.utils.image import show_cam_on_image\n",
    "\n",
    "encoder_choice = 'vit'\n",
    "class_name = 'Cardiomegaly'\n",
    "\n",
    "model_weights_path = 'weights/{}_{}_weights'.format(encoder_choice, class_name)\n",
    "model = get_encoder(encoder_choice=encoder_choice)\n",
    "model = model.to(device)\n",
    "model.load_state_dict(torch.load(model_weights_path))\n",
    "model.eval()\n",
    "\n",
    "target_layers = [model.blocks[-1].norm1]\n",
    "\n",
    "\n",
    "def reshape_transform(tensor, height=14, width=14):\n",
    "    result = tensor[:, 1:, :].reshape(tensor.size(0),\n",
    "                                      height, width, tensor.size(2))\n",
    "\n",
    "    # Bring the channels to the first dimension,\n",
    "    # like in CNNs.\n",
    "    result = result.transpose(2, 3).transpose(1, 2)\n",
    "    return result\n",
    "\n",
    "cam = EigenCAM(model=model, target_layers=target_layers,\n",
    "                                   use_cuda=True,\n",
    "                                   reshape_transform=reshape_transform,\n",
    "                                 )\n",
    "# If None, returns the map for the highest scoring category.\n",
    "# Otherwise, targets the requested category.\n",
    "targets = None\n",
    "\n",
    "image = np.array([images[20]])\n",
    "image = torch.from_numpy(image)\n",
    "grayscale_cam = cam(input_tensor=image,\n",
    "                    targets=targets ,\n",
    "                    eigen_smooth=True,\n",
    "                    aug_smooth=False)\n",
    "\n",
    "grayscale_cam = grayscale_cam[0, :]\n",
    "\n",
    "xray = rearrange(images[20], 'c w h -> w h c')\n",
    "\n",
    "cam_image = show_cam_on_image(xray, grayscale_cam, use_rgb=False)\n",
    "\n",
    "fig, ax = plt.subplots(1, 2, figsize=(12, 12))\n",
    "fig.subplots_adjust(hspace=0.05)\n",
    "\n",
    "ax[1].imshow(cam_image)\n",
    "\n",
    "for spine in ax[1].spines:\n",
    "    ax[1].spines[spine].set_visible(False)\n",
    "    \n",
    "ax[1].get_xaxis().set_ticks([])\n",
    "ax[1].get_yaxis().set_ticks([])\n",
    "\n",
    "\n",
    "ax[0].imshow(xray)\n",
    "\n",
    "for spine in ax[0].spines:\n",
    "    ax[0].spines[spine].set_visible(False)\n",
    "    \n",
    "xticks = ax[0].get_xaxis().set_ticks([])\n",
    "yticks = ax[0].get_yaxis().set_ticks([])\n",
    "\n",
    "path = 'fonts/Roboto-Regular.ttf'\n",
    "fontprop = fm.FontProperties(fname=path, size=25)\n",
    "\n",
    "label = ax[0].text(1.0, -0.05, 'Cardiomegaly Saliency Map', ha='center', va='top',\n",
    "               transform=ax[0].transAxes, fontproperties=fontprop)\n",
    "\n",
    "\n",
    "plt.savefig('figures/saliency.png', bbox_inches='tight')"
   ]
  },
  {
   "cell_type": "code",
   "execution_count": null,
   "id": "45ff34e1",
   "metadata": {},
   "outputs": [],
   "source": []
  }
 ],
 "metadata": {
  "kernelspec": {
   "display_name": "cbir",
   "language": "python",
   "name": "cbir"
  },
  "language_info": {
   "codemirror_mode": {
    "name": "ipython",
    "version": 3
   },
   "file_extension": ".py",
   "mimetype": "text/x-python",
   "name": "python",
   "nbconvert_exporter": "python",
   "pygments_lexer": "ipython3",
   "version": "3.9.12"
  }
 },
 "nbformat": 4,
 "nbformat_minor": 5
}
